{
  "metadata": {
    "kernelspec": {
      "display_name": "Python (Pyodide)",
      "language": "python",
      "name": "python"
    },
    "language_info": {
      "codemirror_mode": {
        "name": "python",
        "version": 3
      },
      "file_extension": ".py",
      "mimetype": "text/x-python",
      "name": "python",
      "nbconvert_exporter": "python",
      "pygments_lexer": "ipython3",
      "version": "3.8"
    },
    "colab": {
      "provenance": [],
      "toc_visible": true
    }
  },
  "nbformat": 4,
  "nbformat_minor": 5,
  "cells": [
    {
      "cell_type": "markdown",
      "id": "819846de",
      "metadata": {
        "id": "819846de"
      },
      "source": [
        "# Polygon Finance API Integration for Langchain Community"
      ]
    },
    {
      "cell_type": "markdown",
      "id": "7a915171",
      "metadata": {
        "id": "7a915171"
      },
      "source": [
        "## Overview"
      ]
    },
    {
      "cell_type": "markdown",
      "id": "42142759",
      "metadata": {
        "id": "42142759"
      },
      "source": [
        "This notebook demonstrates how to use the Finance Polygon integration within the LangChain framework. This integration allows you to retrieve stock market data using the Polygon.io API. By leveraging the offerings from Polygon, users gain access to enhanced insights for comprehensive financial analysis."
      ]
    },
    {
      "cell_type": "markdown",
      "id": "949bd6e1",
      "metadata": {
        "id": "949bd6e1"
      },
      "source": [
        "## Setup"
      ]
    },
    {
      "cell_type": "markdown",
      "id": "8f4e779c",
      "metadata": {
        "id": "8f4e779c"
      },
      "source": [
        "To use the Finance Polygon integration, you need:\n",
        "\n",
        "1. A valid Polygon.io API key.\n",
        "2. The LangChain library installed in your Python environment.\n",
        "\n",
        "#### Acquiring an API Key\n",
        "\n",
        "1. Navigate To The [Polygon.io Dashboard](https://polygon.io/dashboard/keys)\n",
        "2. Sign Up and navigate to `keys`\n",
        "3. Click `New Key`\n",
        "4. Click `Copy`\n",
        "\n",
        "#### Install the required library:\n",
        "```console\n",
        "pip install --upgrade langchain-community\n",
        "```"
      ]
    },
    {
      "cell_type": "markdown",
      "id": "87e2934f",
      "metadata": {
        "id": "87e2934f"
      },
      "source": [
        "## Instantiation"
      ]
    },
    {
      "cell_type": "markdown",
      "id": "866e2b3a",
      "metadata": {
        "id": "866e2b3a"
      },
      "source": [
        "Use the `PolygonAllTickers` tool provided by the `langchain_community` package. Ensure you set the environment variable `POLYGON_API_KEY` with your API key before instantiating the tool."
      ]
    },
    {
      "cell_type": "code",
      "execution_count": null,
      "id": "367738e7",
      "metadata": {
        "id": "367738e7"
      },
      "outputs": [],
      "source": [
        "import os\n",
        "\n",
        "from langchain_community.tools.finance_polygon import PolygonAllTickers\n",
        "from langchain_community.utilities.finance_polygon import FinancePolygonAPIWrapper\n",
        "\n",
        "os.environ[\"POLYGON_API_KEY\"] = \"<your_api_key>\"\n",
        "tool = PolygonAllTickers(api_wrapper=FinancePolygonAPIWrapper())"
      ]
    },
    {
      "cell_type": "markdown",
      "id": "adf54d4a",
      "metadata": {
        "id": "adf54d4a"
      },
      "source": [
        "## Invocation"
      ]
    },
    {
      "cell_type": "markdown",
      "id": "66842c1b",
      "metadata": {
        "id": "66842c1b"
      },
      "source": [
        "You can invoke the tool using its `run()` method. For example:"
      ]
    },
    {
      "cell_type": "code",
      "execution_count": null,
      "id": "920df754",
      "metadata": {
        "id": "920df754"
      },
      "outputs": [],
      "source": [
        "tool.run()"
      ]
    },
    {
      "cell_type": "markdown",
      "id": "c926c605",
      "metadata": {
        "id": "c926c605"
      },
      "source": [
        "## Chaining"
      ]
    },
    {
      "cell_type": "markdown",
      "id": "a407fd93",
      "metadata": {
        "id": "a407fd93"
      },
      "source": [
        "The Finance Polygon tool can be used within a LangChain agent for seamless integration with other tools. Here's an example:"
      ]
    },
    {
      "cell_type": "code",
      "execution_count": null,
      "id": "324e306a",
      "metadata": {
        "id": "324e306a"
      },
      "outputs": [],
      "source": [
        "from langchain.agents import AgentType, initialize_agent, load_tools\n",
        "from langchain_openai import OpenAI\n",
        "\n",
        "os.environ[\"OPENAI_API_KEY\"] = \"<your_api_key>\"\n",
        "\n",
        "llm = OpenAI()\n",
        "tools = load_tools([\"polygon-all-tickers\"], llm=llm)\n",
        "agent = initialize_agent(\n",
        "    tools, llm, agent=AgentType.ZERO_SHOT_REACT_DESCRIPTION, verbose=True\n",
        ")\n",
        "agent.run(\"What is the current snapshot of Apple stock?\")"
      ]
    },
    {
      "cell_type": "markdown",
      "id": "06ad7494",
      "metadata": {
        "id": "06ad7494"
      },
      "source": [
        "## API reference"
      ]
    },
    {
      "cell_type": "markdown",
      "id": "84a4e0b1",
      "metadata": {
        "id": "84a4e0b1"
      },
      "source": [
        "For more details, refer to the [Polygon.io API documentation](https://polygon.io/docs)."
      ]
    }
  ]
}
