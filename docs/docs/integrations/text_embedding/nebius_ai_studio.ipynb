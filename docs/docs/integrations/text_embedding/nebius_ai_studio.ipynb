{
 "cells": [
  {
   "cell_type": "markdown",
   "metadata": {},
   "source": [
    "# Nebius AI Studio Embeddings Model\n",
    "\n",
    "This notebook shows how to use Nebius AI Studio embedding models within LangChain.\n",
    "\n",
    "To use Nebius AI Studio you need to have an API key. You can get it by registering for free at [Nebius AI Studio](https://auth.eu.nebius.com/ui/login) and issuing the key at [API Keys section](https://studio.nebius.ai/settings/api-keys)."
   ]
  },
  {
   "cell_type": "code",
   "execution_count": 1,
   "metadata": {},
   "outputs": [
    {
     "name": "stderr",
     "output_type": "stream",
     "text": [
      "None of PyTorch, TensorFlow >= 2.0, or Flax have been found. Models won't be available and only tokenizers, configuration and file/data utilities can be used.\n"
     ]
    },
    {
     "data": {
      "text/plain": [
       "[0.012335711594761148,\n",
       " 0.0067628993993542105,\n",
       " 0.0017012144005143699,\n",
       " 0.00451622836369734,\n",
       " -0.010077597412912477]"
      ]
     },
     "execution_count": 1,
     "metadata": {},
     "output_type": "execute_result"
    }
   ],
   "source": [
    "from langchain_community.embeddings import NebiusAIStudioEmbeddings\n",
    "\n",
    "embeddings = NebiusAIStudioEmbeddings(\n",
    "    nebius_api_key=\"your-api-key\",\n",
    "    model=\"BAAI/bge-en-icl\",\n",
    ")\n",
    "\n",
    "# Simple call\n",
    "embedding = embeddings.embed_query(\"Test query\")\n",
    "embedding[:5]"
   ]
  },
  {
   "cell_type": "code",
   "execution_count": 2,
   "metadata": {},
   "outputs": [
    {
     "data": {
      "text/plain": [
       "[0.012335711594761148,\n",
       " 0.0067628993993542105,\n",
       " 0.0017012144005143699,\n",
       " 0.00451622836369734,\n",
       " -0.010077597412912477]"
      ]
     },
     "execution_count": 2,
     "metadata": {},
     "output_type": "execute_result"
    }
   ],
   "source": [
    "# Async call\n",
    "async_embedding = await embeddings.aembed_query(\"Test query\")\n",
    "async_embedding[:5]"
   ]
  },
  {
   "cell_type": "code",
   "execution_count": 3,
   "metadata": {},
   "outputs": [
    {
     "name": "stdout",
     "output_type": "stream",
     "text": [
      "[0.0014568491562725653, 0.007017283894087749, 0.01032761129629871]\n",
      "[-0.009773093541153107, 0.007610195790242173, 0.011153991223392539]\n",
      "[0.00012276011875218953, 0.001418773255947635, 0.013775830646459293]\n"
     ]
    }
   ],
   "source": [
    "# Batched call\n",
    "documents = ['You are', 'so beautiful', 'smile!']\n",
    "batch_embeddings = embeddings.embed_documents(documents)\n",
    "for embed in batch_embeddings:\n",
    "    print(embed[:3])"
   ]
  },
  {
   "cell_type": "code",
   "execution_count": null,
   "metadata": {},
   "outputs": [],
   "source": []
  }
 ],
 "metadata": {
  "kernelspec": {
   "display_name": "Python 3 (ipykernel)",
   "language": "python",
   "name": "python3"
  },
  "language_info": {
   "codemirror_mode": {
    "name": "ipython",
    "version": 3
   },
   "file_extension": ".py",
   "mimetype": "text/x-python",
   "name": "python",
   "nbconvert_exporter": "python",
   "pygments_lexer": "ipython3",
   "version": "3.11.0rc1"
  }
 },
 "nbformat": 4,
 "nbformat_minor": 4
}
