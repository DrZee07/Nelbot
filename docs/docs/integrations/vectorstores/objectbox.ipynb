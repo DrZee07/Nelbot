{
 "cells": [
  {
   "cell_type": "markdown",
   "id": "a9e0ff5f-3a76-45f4-bc5c-0e27e5badc01",
   "metadata": {},
   "source": []
  },
  {
   "cell_type": "markdown",
   "id": "1cfb307d-1863-4865-96bd-f1cc92bebb9b",
   "metadata": {},
   "source": [
    "## Setup\n",
    "Uncomment the below cells to install objectbox"
   ]
  },
  {
   "cell_type": "code",
   "execution_count": 2,
   "id": "7dbaa8c5-7557-475d-ba93-9abfc233050d",
   "metadata": {},
   "outputs": [],
   "source": [
    "from langchain_community.document_loaders import TextLoader\n",
    "from langchain_community.embeddings import HuggingFaceEmbeddings\n",
    "from langchain_community.vectorstores import ObjectBox\n",
    "from langchain_text_splitters import CharacterTextSplitter"
   ]
  },
  {
   "cell_type": "code",
   "execution_count": 3,
   "id": "38aaaba8-7fb0-4741-8d54-f4fb2b1641c5",
   "metadata": {},
   "outputs": [],
   "source": [
    "# splitting txt file to insert into objectbox\n",
    "\n",
    "documents = TextLoader(\"../../modules/state_of_the_union.txt\").load()\n",
    "text_splitter = CharacterTextSplitter(chunk_size=1000, chunk_overlap=0)\n",
    "docs = text_splitter.split_documents(documents)"
   ]
  },
  {
   "cell_type": "markdown",
   "id": "bc960751-299d-48ec-8417-b4fe7d4180ef",
   "metadata": {},
   "source": [
    "## Creating an ObjectBox instance"
   ]
  },
  {
   "cell_type": "code",
   "execution_count": 4,
   "id": "304fbd5d-3477-417f-af43-47ebbe82ff2b",
   "metadata": {},
   "outputs": [],
   "source": [
    "ob = ObjectBox.from_documents(documents=docs, embedding=HuggingFaceEmbeddings(), embedding_dimensions=768)"
   ]
  },
  {
   "cell_type": "markdown",
   "id": "67e55b6a-c89f-4cf5-ae0f-becd0f387a36",
   "metadata": {},
   "source": [
    "## Similarity Search"
   ]
  },
  {
   "cell_type": "code",
   "execution_count": 5,
   "id": "b14d5f28-9d78-4310-8809-12f86abf3f67",
   "metadata": {},
   "outputs": [],
   "source": [
    "query = \"What did the president say about Ketanji Brown Jackson\"\n",
    "similarity_results = ob.similarity_search(query)"
   ]
  },
  {
   "cell_type": "code",
   "execution_count": 6,
   "id": "635805fa-7332-4af0-85ab-bc37b9fac178",
   "metadata": {},
   "outputs": [
    {
     "name": "stdout",
     "output_type": "stream",
     "text": [
      "Tonight. I call on the Senate to: Pass the Freedom to Vote Act. Pass the John Lewis Voting Rights Act. And while you’re at it, pass the Disclose Act so Americans can know who is funding our elections. \n",
      "\n",
      "Tonight, I’d like to honor someone who has dedicated his life to serve this country: Justice Stephen Breyer—an Army veteran, Constitutional scholar, and retiring Justice of the United States Supreme Court. Justice Breyer, thank you for your service. \n",
      "\n",
      "One of the most serious constitutional responsibilities a President has is nominating someone to serve on the United States Supreme Court. \n",
      "\n",
      "And I did that 4 days ago, when I nominated Circuit Court of Appeals Judge Ketanji Brown Jackson. One of our nation’s top legal minds, who will continue Justice Breyer’s legacy of excellence.\n"
     ]
    }
   ],
   "source": [
    "print(similarity_results[0].page_content)"
   ]
  },
  {
   "cell_type": "markdown",
   "id": "1bd97a28-1cc9-447e-b483-99121b2b86d5",
   "metadata": {},
   "source": [
    "## Similarity search with score\n",
    "The returned distance score is Euclidean distance. Therefore, a lower score is better."
   ]
  },
  {
   "cell_type": "code",
   "execution_count": 7,
   "id": "aa57798a-044b-48ac-9836-d506c5b87f32",
   "metadata": {},
   "outputs": [],
   "source": [
    "similarity_results_with_score = ob.similarity_search_with_score(query, 1)"
   ]
  },
  {
   "cell_type": "code",
   "execution_count": 8,
   "id": "7b76f5b9-853b-4a20-90e3-728a9c40b7c6",
   "metadata": {},
   "outputs": [
    {
     "name": "stdout",
     "output_type": "stream",
     "text": [
      "Tonight. I call on the Senate to: Pass the Freedom to Vote Act. Pass the John Lewis Voting Rights Act. And while you’re at it, pass the Disclose Act so Americans can know who is funding our elections. \n",
      "\n",
      "Tonight, I’d like to honor someone who has dedicated his life to serve this country: Justice Stephen Breyer—an Army veteran, Constitutional scholar, and retiring Justice of the United States Supreme Court. Justice Breyer, thank you for your service. \n",
      "\n",
      "One of the most serious constitutional responsibilities a President has is nominating someone to serve on the United States Supreme Court. \n",
      "\n",
      "And I did that 4 days ago, when I nominated Circuit Court of Appeals Judge Ketanji Brown Jackson. One of our nation’s top legal minds, who will continue Justice Breyer’s legacy of excellence.\n",
      "score:  1.2032089233398438\n"
     ]
    }
   ],
   "source": [
    "print(similarity_results_with_score[0][0].page_content)\n",
    "print(\"score: \", similarity_results_with_score[0][1])"
   ]
  },
  {
   "cell_type": "markdown",
   "id": "23db174e-6649-4bb1-a025-3dabdb9ac8bd",
   "metadata": {},
   "source": [
    "## ObjectBox as a Retreiver\n",
    "\n",
    "ObjectBox, as all the other vector stores, is a LangChain Retriever. "
   ]
  },
  {
   "cell_type": "code",
   "execution_count": 9,
   "id": "b73d5f81-e193-4034-bc1e-84ef7fe29845",
   "metadata": {},
   "outputs": [
    {
     "data": {
      "text/plain": [
       "VectorStoreRetriever(tags=['ObjectBox', 'HuggingFaceEmbeddings'], vectorstore=<langchain_community.vectorstores.objectbox.ObjectBox object at 0x17af92530>)"
      ]
     },
     "execution_count": 9,
     "metadata": {},
     "output_type": "execute_result"
    }
   ],
   "source": [
    "retriever = ob.as_retriever()\n",
    "retriever"
   ]
  },
  {
   "cell_type": "markdown",
   "id": "9c461712-8a4d-4316-bd39-18e290bc2f28",
   "metadata": {},
   "source": [
    "We right now support only similarity as search_type and not mmr and similarity_score_threshold"
   ]
  },
  {
   "cell_type": "code",
   "execution_count": 10,
   "id": "c47f5324-5b1b-4e01-ab69-70cecad7f52d",
   "metadata": {},
   "outputs": [
    {
     "data": {
      "text/plain": [
       "VectorStoreRetriever(tags=['ObjectBox', 'HuggingFaceEmbeddings'], vectorstore=<langchain_community.vectorstores.objectbox.ObjectBox object at 0x17af92530>)"
      ]
     },
     "execution_count": 10,
     "metadata": {},
     "output_type": "execute_result"
    }
   ],
   "source": [
    "retriever = ob.as_retriever(search_type=\"similarity\")\n",
    "retriever"
   ]
  },
  {
   "cell_type": "code",
   "execution_count": 11,
   "id": "326720ec-3751-4d00-993a-cadccb56c2ce",
   "metadata": {},
   "outputs": [
    {
     "data": {
      "text/plain": [
       "Document(page_content='Tonight. I call on the Senate to: Pass the Freedom to Vote Act. Pass the John Lewis Voting Rights Act. And while you’re at it, pass the Disclose Act so Americans can know who is funding our elections. \\n\\nTonight, I’d like to honor someone who has dedicated his life to serve this country: Justice Stephen Breyer—an Army veteran, Constitutional scholar, and retiring Justice of the United States Supreme Court. Justice Breyer, thank you for your service. \\n\\nOne of the most serious constitutional responsibilities a President has is nominating someone to serve on the United States Supreme Court. \\n\\nAnd I did that 4 days ago, when I nominated Circuit Court of Appeals Judge Ketanji Brown Jackson. One of our nation’s top legal minds, who will continue Justice Breyer’s legacy of excellence.', metadata={'id': 32})"
      ]
     },
     "execution_count": 11,
     "metadata": {},
     "output_type": "execute_result"
    }
   ],
   "source": [
    "query = \"What did the president say about Ketanji Brown Jackson\"\n",
    "retriever.get_relevant_documents(query)[0]"
   ]
  }
 ],
 "metadata": {
  "kernelspec": {
   "display_name": "Python 3 (ipykernel)",
   "language": "python",
   "name": "python3"
  },
  "language_info": {
   "codemirror_mode": {
    "name": "ipython",
    "version": 3
   },
   "file_extension": ".py",
   "mimetype": "text/x-python",
   "name": "python",
   "nbconvert_exporter": "python",
   "pygments_lexer": "ipython3",
   "version": "3.10.0"
  }
 },
 "nbformat": 4,
 "nbformat_minor": 5
}
