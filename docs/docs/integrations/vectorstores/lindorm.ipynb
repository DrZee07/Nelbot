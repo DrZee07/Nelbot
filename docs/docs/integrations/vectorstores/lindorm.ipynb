{
 "cells": [
  {
   "cell_type": "raw",
   "id": "1957f5cb",
   "metadata": {},
   "source": [
    "---\n",
    "sidebar_label: Lindorm\n",
    "---"
   ]
  },
  {
   "cell_type": "markdown",
   "id": "ef1f0986",
   "metadata": {},
   "source": [
    "# LindormVectorStore\n",
    "\n",
    "This notebook covers how to get started with the Lindorm vector store."
   ]
  },
  {
   "cell_type": "markdown",
   "id": "36fdc060",
   "metadata": {},
   "source": [
    "## Setup\n",
    "Lindorm is a multimodal database from Alibaba-cloud.It supports full-text search, vector search and hybrid search. To start Lindorm VectorService, you should have an Alibaba-cloud \n",
    "account and purchase Lindorm database service. Note that SearchEngine and VectorEngine are both required if you want to use Lindorm vector search service. You can find more detailed \n",
    "information on [this tutorial](https://help.aliyun.com/document_detail/2773369.html?spm=a2c4g.11186623.help-menu-172543.d_2_5_1.50075072fjtjfR&scm=20140722.H_2773369._.OR_help-V_1)\n",
    "\n",
    "You should install opensearch package"
   ]
  },
  {
   "cell_type": "raw",
   "id": "64e28aa6",
   "metadata": {
    "vscode": {
     "languageId": "raw"
    }
   },
   "source": "%pip install opensearch-py "
  },
  {
   "cell_type": "markdown",
   "id": "9695dee7",
   "metadata": {},
   "source": [
    "### Credentials\n",
    "Head to [you console](https://lindorm.console.aliyun.com/cn-hangzhou/clusterhou/cluster?spm=a2c4g.11186623.0.0.1fa31aa84av8Uv) to sign up to Lindorm and get the public url of **Search Engine**, username and password.\n"
   ]
  },
  {
   "cell_type": "code",
   "execution_count": null,
   "id": "894c30e4",
   "metadata": {},
   "outputs": [],
   "source": [
    "SEARCH_ENDPOINT = \"\"\n",
    "SEARCH_USERNAME = \"\"\n",
    "SEARCH_PWD = \"\""
   ]
  },
  {
   "cell_type": "markdown",
   "id": "7f98392b",
   "metadata": {},
   "source": "In this tutorial, we also use Lindorm-ai service to provide the embedding and rerank capability. You can get more information from [here](https://help.aliyun.com/document_detail/2393245.html?spm=a2c4g.11186623.help-menu-172543.d_2_7.1fa31aa84av8Uv)"
  },
  {
   "cell_type": "code",
   "execution_count": null,
   "id": "e7b6a6e0",
   "metadata": {},
   "outputs": [],
   "source": [
    "from langchain_community.embeddings.lindorm_embedding import LindormAIEmbeddings\n",
    "\n",
    "AI_EMB_ENDPOINT = \"\"\n",
    "AI_USERNAME = \"\"\n",
    "AI_PWD = \"\"\n",
    "\n",
    "AI_DEFAULT_EMBEDDING_MODEL = \"\"\n",
    "\n",
    "ldai_emb = LindormAIEmbeddings(\n",
    "    endpoint=AI_EMB_ENDPOINT,\n",
    "    username=AI_USERNAME,\n",
    "    password=AI_PWD,\n",
    "    model_name=AI_DEFAULT_EMBEDDING_MODEL,\n",
    ")"
   ]
  },
  {
   "cell_type": "markdown",
   "id": "93df377e",
   "metadata": {},
   "source": "## Initialization\n"
  },
  {
   "cell_type": "code",
   "execution_count": null,
   "id": "dc37144c-208d-4ab3-9f3a-0407a69fe052",
   "metadata": {
    "tags": []
   },
   "outputs": [],
   "source": [
    "from langchain_community.vectorstores.lindorm_vector_search import LindormVectorStore\n",
    "\n",
    "index_name = \"langchain_test_index_1121\"\n",
    "vector_store = LindormVectorStore(\n",
    "    lindorm_search_url=SEARCH_ENDPOINT,\n",
    "    index_name=index_name,\n",
    "    embedding=ldai_emb,\n",
    "    http_auth=(SEARCH_USERNAME, SEARCH_PWD),\n",
    ")"
   ]
  },
  {
   "cell_type": "markdown",
   "id": "ac6071d4",
   "metadata": {},
   "source": [
    "## Manage vector store\n",
    "\n",
    "### Add items to vector store\n"
   ]
  },
  {
   "cell_type": "code",
   "execution_count": null,
   "id": "17f5efc0",
   "metadata": {},
   "outputs": [],
   "source": [
    "from langchain_core.documents import Document\n",
    "\n",
    "document_1 = Document(page_content=\"foo\", metadata={\"source\": \"https://example.com\"})\n",
    "\n",
    "document_2 = Document(page_content=\"bar\", metadata={\"source\": \"https://example.com\"})\n",
    "\n",
    "document_3 = Document(page_content=\"baz\", metadata={\"source\": \"https://example.com\"})\n",
    "\n",
    "documents = [document_1, document_2, document_3]\n",
    "\n",
    "vector_store.add_documents(documents=documents, ids=[\"1\", \"2\", \"3\"])"
   ]
  },
  {
   "cell_type": "markdown",
   "id": "dcf1b905",
   "metadata": {},
   "source": "### Delete items from vector store"
  },
  {
   "cell_type": "code",
   "execution_count": null,
   "id": "ef61e188",
   "metadata": {},
   "outputs": [],
   "source": [
    "vector_store.delete(ids=[\"3\"])"
   ]
  },
  {
   "cell_type": "markdown",
   "id": "c3620501",
   "metadata": {},
   "source": [
    "## Query vector store\n",
    "\n",
    "Once your vector store has been created and the relevant documents have been added you will most likely wish to query it during the running of your chain or agent. \n",
    "\n",
    "### Query directly\n",
    "\n",
    "Performing a simple similarity search can be done as follows:"
   ]
  },
  {
   "cell_type": "code",
   "execution_count": null,
   "id": "aa0a16fa",
   "metadata": {},
   "outputs": [],
   "source": [
    "results = vector_store.similarity_search(\n",
    "    query=\"thud\",\n",
    "    k=1,\n",
    "    filter=[{\"match\": {\"metadata.source\": \"https://another-example.com\"}}],\n",
    ")\n",
    "for doc in results:\n",
    "    print(f\"* {doc.page_content} [{doc.metadata}]\")"
   ]
  },
  {
   "cell_type": "markdown",
   "id": "3ed9d733",
   "metadata": {},
   "source": "If you want to execute a similarity search and receive the corresponding scores you can run:"
  },
  {
   "cell_type": "code",
   "execution_count": null,
   "id": "5efd2eaa",
   "metadata": {},
   "outputs": [],
   "source": [
    "results = vector_store.similarity_search_with_score(\n",
    "    query=\"thud\",\n",
    "    k=1,\n",
    "    filter=[{\"match\": {\"metadata.source\": \"https://another-example.com\"}}],\n",
    ")\n",
    "for doc, score in results:\n",
    "    print(f\"* [SIM={score:3f}] {doc.page_content} [{doc.metadata}]\")"
   ]
  },
  {
   "cell_type": "markdown",
   "id": "901c75dc",
   "metadata": {},
   "source": [
    "## Usage for retrieval-augmented generation\n",
    "\n",
    "For guides on how to use this vector store for retrieval-augmented generation (RAG), see the following sections:\n",
    "\n",
    "- [Tutorials: working with external knowledge](https://python.langchain.com/docs/tutorials/#working-with-external-knowledge)\n",
    "- [How-to: Question and answer with RAG](https://python.langchain.com/docs/how_to/#qa-with-rag)\n",
    "- [Retrieval conceptual docs](https://python.langchain.com/docs/concepts/#retrieval)"
   ]
  },
  {
   "cell_type": "markdown",
   "id": "069f1b5f",
   "metadata": {},
   "source": "## More Feature of Lindorm Vector"
  },
  {
   "cell_type": "markdown",
   "id": "afc78b60c5b6e8d5",
   "metadata": {},
   "source": [
    "### Routing\n",
    "\n",
    "When using RAG in UGC scene, routing provides the capability of efficient searching. The following units are the tutorial code to use routing when adding and retrieving document. "
   ]
  },
  {
   "cell_type": "code",
   "execution_count": null,
   "id": "bacdb88483e8f94f",
   "metadata": {},
   "outputs": [],
   "source": [
    "import copy\n",
    "\n",
    "from langchain_community.document_loaders import TextLoader\n",
    "from langchain_text_splitters import CharacterTextSplitter\n",
    "\n",
    "# change the file name to your document name\n",
    "loader = TextLoader(\"wiki_documents.txt\")\n",
    "documents = loader.load()\n",
    "text_splitter = CharacterTextSplitter(chunk_size=30, chunk_overlap=0)\n",
    "docs = text_splitter.split_documents(documents)\n",
    "print(\"chunk_ids: \", len(docs))\n",
    "docs = [\n",
    "    copy.deepcopy(doc) for doc in docs for _ in range(10)\n",
    "]  # train ivfpq need data > max(256, nlist), nlist default to 1000\n",
    "print(\"total doc:\", len(docs))\n",
    "\n",
    "\n",
    "# You Should Specify Your Routing Value When init the document\n",
    "for i, doc in enumerate(docs):\n",
    "    doc.metadata[\"chunk_id\"] = i\n",
    "    doc.metadata[\"date\"] = f\"{range(2010, 2020)[i % 10]}-01-01\"\n",
    "    doc.metadata[\"rating\"] = range(1, 6)[i % 5]\n",
    "    doc.metadata[\"author\"] = [\"John Doe\", \"Jane Doe\"][i % 2]\n",
    "    doc.metadata[\"routing\"] = str(i % 5)"
   ]
  },
  {
   "cell_type": "markdown",
   "id": "309c37bd9e72b03b",
   "metadata": {},
   "source": "### Init LindormVectorStore and Build route index from documents"
  },
  {
   "cell_type": "code",
   "execution_count": null,
   "id": "cd50fd146e2d55c3",
   "metadata": {},
   "outputs": [],
   "source": [
    "route_index = \"search_route_test_idx\"\n",
    "ld_search_store = LindormVectorStore.from_documents(\n",
    "    docs,\n",
    "    lindorm_search_url=SEARCH_ENDPOINT,\n",
    "    index_name=route_index,\n",
    "    embedding=ldai_emb,\n",
    "    http_auth=(SEARCH_USERNAME, SEARCH_PWD),\n",
    "    use_ssl=False,\n",
    "    verify_certs=False,\n",
    "    ssl_assert_hostname=False,\n",
    "    ssl_show_warn=False,\n",
    "    timeout=60,\n",
    "    embed_thread_num=2,  # text -> embedding thread num\n",
    "    write_thread_num=5,  # embedding ingest thread num\n",
    "    pool_maxsize=10,  # search client pool size\n",
    "    analyzer=\"ik_smart\",  # search's text analyzer\n",
    "    routing_field=\"routing\",  # specify metadata[\"routing\"] as routing_field\n",
    "    space_type=\"cosinesimil\",  # others: l2, innerproduct\n",
    "    dimension=1024,  # modify when embedding model change\n",
    "    data_type=\"float\",\n",
    "    method_name=\"ivfpq\",\n",
    "    # following args for ivfpq index\n",
    "    nlist=32,  # > 1000 by default\n",
    ")"
   ]
  },
  {
   "cell_type": "markdown",
   "id": "432e4340c172dca7",
   "metadata": {},
   "source": "### Routing Search"
  },
  {
   "cell_type": "code",
   "execution_count": null,
   "id": "f19f1e1397a8463a",
   "metadata": {},
   "outputs": [],
   "source": [
    "query = \"where is the school library?\"\n",
    "docs_with_score = ld_search_store.similarity_search_with_score(\n",
    "    query=query,\n",
    "    routing=\"0\",\n",
    "    k=5,\n",
    "    hybrid=True,\n",
    "    nprobe=\"200\",\n",
    "    reorder_factor=\"2\",\n",
    "    client_refactor=\"true\",\n",
    ")\n",
    "print(docs_with_score[0:1])"
   ]
  },
  {
   "cell_type": "markdown",
   "id": "5c3bcec9b86c469f",
   "metadata": {},
   "source": [
    "### Full text search\n",
    "You can also do the Full text search by specifying the search_type to be \"text_search\", whose default value is \"approximate_search\", also known as vector search."
   ]
  },
  {
   "cell_type": "code",
   "execution_count": null,
   "id": "6d6944bbeb54598f",
   "metadata": {},
   "outputs": [],
   "source": [
    "query = \"school museum\"\n",
    "docs_with_score = ld_search_store.similarity_search_with_score(\n",
    "    query, k=10, search_type=\"text_search\"\n",
    ")\n",
    "print(docs_with_score)"
   ]
  },
  {
   "cell_type": "markdown",
   "id": "be602ecc92f51b73",
   "metadata": {},
   "source": "### Delete Index"
  },
  {
   "cell_type": "code",
   "execution_count": null,
   "id": "a29593c1875ba4a9",
   "metadata": {},
   "outputs": [],
   "source": [
    "ld_search_store.delete_index()"
   ]
  },
  {
   "cell_type": "markdown",
   "id": "7a0c8d4c7e92704",
   "metadata": {},
   "source": [
    "## API reference\n",
    "For detailed documentation of all Lindorm features and configurations head to the API reference: [docs](https://help.aliyun.com/document_detail/2854331.html?spm=a2c4g.11186623.help-menu-172543.d_2_5_2_2.23806911d9GmLx)"
   ]
  }
 ],
 "metadata": {
  "kernelspec": {
   "display_name": "Python 3 (ipykernel)",
   "language": "python",
   "name": "python3"
  },
  "language_info": {
   "codemirror_mode": {
    "name": "ipython",
    "version": 3
   },
   "file_extension": ".py",
   "mimetype": "text/x-python",
   "name": "python",
   "nbconvert_exporter": "python",
   "pygments_lexer": "ipython3",
   "version": "3.10.12"
  }
 },
 "nbformat": 4,
 "nbformat_minor": 5
}
