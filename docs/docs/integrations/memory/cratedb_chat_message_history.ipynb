{
 "cells": [
  {
   "cell_type": "markdown",
   "id": "f22eab3f84cbeb37",
   "metadata": {
    "collapsed": false
   },
   "source": [
    "# CrateDB Chat Message History\n",
    "\n",
    "This notebook demonstrates how to use the `CrateDBChatMessageHistory`\n",
    "to manage chat history in CrateDB, for supporting conversational memory."
   ]
  },
  {
   "cell_type": "markdown",
   "id": "7fb27b941602401d91542211134fc71a",
   "metadata": {
    "collapsed": false
   },
   "source": [
    "## Prerequisites"
   ]
  },
  {
   "cell_type": "code",
   "execution_count": null,
   "id": "acae54e37e7d407bbb7b55eff062a284",
   "metadata": {
    "collapsed": false
   },
   "outputs": [],
   "source": [
    "!#pip install langchain sqlalchemy-cratedb"
   ]
  },
  {
   "cell_type": "markdown",
   "id": "f8f2830ee9ca1e01",
   "metadata": {
    "collapsed": false
   },
   "source": [
    "## Configuration\n",
    "\n",
    "To use the storage wrapper, you will need to configure two details.\n",
    "\n",
    "1. Session Id - a unique identifier of the session, like user name, email, chat id etc.\n",
    "2. Database connection string: An SQLAlchemy-compatible URI that specifies the database\n",
    "   connection. It will be passed to SQLAlchemy create_engine function."
   ]
  },
  {
   "cell_type": "code",
   "execution_count": 52,
   "id": "9a63283cbaf04dbcab1f6479b197f3a8",
   "metadata": {
    "collapsed": false
   },
   "outputs": [],
   "source": [
    "from langchain.memory.chat_message_histories import CrateDBChatMessageHistory\n",
    "\n",
    "CONNECTION_STRING = \"crate://crate@localhost:4200/?schema=example\"\n",
    "\n",
    "chat_message_history = CrateDBChatMessageHistory(\n",
    "    session_id=\"test_session\", connection_string=CONNECTION_STRING\n",
    ")"
   ]
  },
  {
   "cell_type": "markdown",
   "id": "8dd0d8092fe74a7c96281538738b07e2",
   "metadata": {
    "collapsed": false
   },
   "source": [
    "## Basic Usage"
   ]
  },
  {
   "cell_type": "code",
   "execution_count": 53,
   "id": "4576e914a866fb40",
   "metadata": {
    "ExecuteTime": {
     "end_time": "2023-08-28T10:04:38.077748Z",
     "start_time": "2023-08-28T10:04:36.105894Z"
    },
    "collapsed": false
   },
   "outputs": [],
   "source": [
    "chat_message_history.add_user_message(\"Hello\")\n",
    "chat_message_history.add_ai_message(\"Hi\")"
   ]
  },
  {
   "cell_type": "code",
   "execution_count": 61,
   "id": "b476688cbb32ba90",
   "metadata": {
    "ExecuteTime": {
     "end_time": "2023-08-28T10:04:38.929396Z",
     "start_time": "2023-08-28T10:04:38.915727Z"
    },
    "collapsed": false
   },
   "outputs": [
    {
     "data": {
      "text/plain": "[HumanMessage(content='Hello', additional_kwargs={}, example=False),\n AIMessage(content='Hi', additional_kwargs={}, example=False)]"
     },
     "execution_count": 61,
     "metadata": {},
     "output_type": "execute_result"
    }
   ],
   "source": [
    "chat_message_history.messages"
   ]
  },
  {
   "cell_type": "markdown",
   "id": "2e5337719d5614fd",
   "metadata": {
    "collapsed": false
   },
   "source": [
    "## Custom Storage Model\n",
    "\n",
    "The default data model, which stores information about conversation messages only\n",
    "has two slots for storing message details, the session id, and the message dictionary.\n",
    "\n",
    "If you want to store additional information, like message date, author, language etc.,\n",
    "please provide an implementation for a custom message converter.\n",
    "\n",
    "This example demonstrates how to create a custom message converter, by implementing\n",
    "the `BaseMessageConverter` interface."
   ]
  },
  {
   "cell_type": "code",
   "execution_count": 55,
   "id": "fdfde84c07d071bb",
   "metadata": {
    "ExecuteTime": {
     "end_time": "2023-08-28T10:04:41.510498Z",
     "start_time": "2023-08-28T10:04:41.494912Z"
    },
    "collapsed": false
   },
   "outputs": [],
   "source": [
    "from datetime import datetime\n",
    "from typing import Any\n",
    "\n",
    "import sqlalchemy as sa\n",
    "from langchain.memory.chat_message_histories.sql import BaseMessageConverter\n",
    "from langchain.schema import AIMessage, BaseMessage, HumanMessage, SystemMessage\n",
    "from sqlalchemy.orm import declarative_base\n",
    "\n",
    "Base = declarative_base()\n",
    "\n",
    "\n",
    "class CustomMessage(Base):\n",
    "    __tablename__ = \"custom_message_store\"\n",
    "\n",
    "    id = sa.Column(sa.BigInteger, primary_key=True, server_default=sa.func.now())\n",
    "    session_id = sa.Column(sa.Text)\n",
    "    type = sa.Column(sa.Text)\n",
    "    content = sa.Column(sa.Text)\n",
    "    created_at = sa.Column(sa.DateTime)\n",
    "    author_email = sa.Column(sa.Text)\n",
    "\n",
    "\n",
    "class CustomMessageConverter(BaseMessageConverter):\n",
    "    def __init__(self, author_email: str):\n",
    "        self.author_email = author_email\n",
    "\n",
    "    def from_sql_model(self, sql_message: Any) -> BaseMessage:\n",
    "        if sql_message.type == \"human\":\n",
    "            return HumanMessage(\n",
    "                content=sql_message.content,\n",
    "            )\n",
    "        elif sql_message.type == \"ai\":\n",
    "            return AIMessage(\n",
    "                content=sql_message.content,\n",
    "            )\n",
    "        elif sql_message.type == \"system\":\n",
    "            return SystemMessage(\n",
    "                content=sql_message.content,\n",
    "            )\n",
    "        else:\n",
    "            raise ValueError(f\"Unknown message type: {sql_message.type}\")\n",
    "\n",
    "    def to_sql_model(self, message: BaseMessage, session_id: str) -> Any:\n",
    "        now = datetime.now()\n",
    "        return CustomMessage(\n",
    "            session_id=session_id,\n",
    "            type=message.type,\n",
    "            content=message.content,\n",
    "            created_at=now,\n",
    "            author_email=self.author_email,\n",
    "        )\n",
    "\n",
    "    def get_sql_model_class(self) -> Any:\n",
    "        return CustomMessage\n",
    "\n",
    "\n",
    "if __name__ == \"__main__\":\n",
    "    Base.metadata.drop_all(bind=sa.create_engine(CONNECTION_STRING))\n",
    "\n",
    "    chat_message_history = CrateDBChatMessageHistory(\n",
    "        session_id=\"test_session\",\n",
    "        connection_string=CONNECTION_STRING,\n",
    "        custom_message_converter=CustomMessageConverter(\n",
    "            author_email=\"test@example.com\"\n",
    "        ),\n",
    "    )\n",
    "\n",
    "    chat_message_history.add_user_message(\"Hello\")\n",
    "    chat_message_history.add_ai_message(\"Hi\")"
   ]
  },
  {
   "cell_type": "code",
   "execution_count": 60,
   "id": "4a6a54d8a9e2856f",
   "metadata": {
    "ExecuteTime": {
     "end_time": "2023-08-28T10:04:43.497990Z",
     "start_time": "2023-08-28T10:04:43.492517Z"
    },
    "collapsed": false
   },
   "outputs": [
    {
     "data": {
      "text/plain": "[HumanMessage(content='Hello', additional_kwargs={}, example=False),\n AIMessage(content='Hi', additional_kwargs={}, example=False)]"
     },
     "execution_count": 60,
     "metadata": {},
     "output_type": "execute_result"
    }
   ],
   "source": [
    "chat_message_history.messages"
   ]
  },
  {
   "cell_type": "markdown",
   "id": "622aded629a1adeb",
   "metadata": {
    "collapsed": false
   },
   "source": [
    "## Custom Name for Session Column\n",
    "\n",
    "The session id, a unique token identifying the session, is an important property of\n",
    "this subsystem. If your database table stores it in a different column, you can use\n",
    "the `session_id_field_name` keyword argument to adjust the name correspondingly."
   ]
  },
  {
   "cell_type": "code",
   "execution_count": 57,
   "id": "72eea5119410473aa328ad9291626812",
   "metadata": {
    "collapsed": false
   },
   "outputs": [],
   "source": [
    "import json\n",
    "import typing as t\n",
    "\n",
    "from langchain.memory.chat_message_histories.cratedb import CrateDBMessageConverter\n",
    "from langchain.schema import _message_to_dict\n",
    "\n",
    "Base = declarative_base()\n",
    "\n",
    "\n",
    "class MessageWithDifferentSessionIdColumn(Base):\n",
    "    __tablename__ = \"message_store_different_session_id\"\n",
    "    id = sa.Column(sa.BigInteger, primary_key=True, server_default=sa.func.now())\n",
    "    custom_session_id = sa.Column(sa.Text)\n",
    "    message = sa.Column(sa.Text)\n",
    "\n",
    "\n",
    "class CustomMessageConverterWithDifferentSessionIdColumn(CrateDBMessageConverter):\n",
    "    def __init__(self):\n",
    "        self.model_class = MessageWithDifferentSessionIdColumn\n",
    "\n",
    "    def to_sql_model(self, message: BaseMessage, custom_session_id: str) -> t.Any:\n",
    "        return self.model_class(\n",
    "            custom_session_id=custom_session_id,\n",
    "            message=json.dumps(_message_to_dict(message)),\n",
    "        )\n",
    "\n",
    "\n",
    "if __name__ == \"__main__\":\n",
    "    Base.metadata.drop_all(bind=sa.create_engine(CONNECTION_STRING))\n",
    "\n",
    "    chat_message_history = CrateDBChatMessageHistory(\n",
    "        session_id=\"test_session\",\n",
    "        connection_string=CONNECTION_STRING,\n",
    "        custom_message_converter=CustomMessageConverterWithDifferentSessionIdColumn(),\n",
    "        session_id_field_name=\"custom_session_id\",\n",
    "    )\n",
    "\n",
    "    chat_message_history.add_user_message(\"Hello\")\n",
    "    chat_message_history.add_ai_message(\"Hi\")"
   ]
  },
  {
   "cell_type": "code",
   "execution_count": 58,
   "id": "8edb47106e1a46a883d545849b8ab81b",
   "metadata": {
    "collapsed": false
   },
   "outputs": [
    {
     "data": {
      "text/plain": "[HumanMessage(content='Hello', additional_kwargs={}, example=False),\n AIMessage(content='Hi', additional_kwargs={}, example=False)]"
     },
     "execution_count": 58,
     "metadata": {},
     "output_type": "execute_result"
    }
   ],
   "source": [
    "chat_message_history.messages"
   ]
  }
 ],
 "metadata": {
  "kernelspec": {
   "display_name": "Python 3",
   "language": "python",
   "name": "python3"
  },
  "language_info": {
   "codemirror_mode": {
    "name": "ipython",
    "version": 2
   },
   "file_extension": ".py",
   "mimetype": "text/x-python",
   "name": "python",
   "nbconvert_exporter": "python",
   "pygments_lexer": "ipython2",
   "version": "2.7.6"
  }
 },
 "nbformat": 4,
 "nbformat_minor": 5
}
