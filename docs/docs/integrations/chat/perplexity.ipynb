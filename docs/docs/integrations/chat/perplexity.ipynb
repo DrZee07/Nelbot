{
 "cells": [
  {
   "cell_type": "raw",
   "id": "a016701c",
   "metadata": {},
   "source": [
    "---\n",
    "sidebar_label: Perplexity\n",
    "---"
   ]
  },
  {
   "cell_type": "markdown",
   "id": "bf733a38-db84-4363-89e2-de6735c37230",
   "metadata": {},
   "source": [
    "# ChatPerplexity\n",
    "\n",
    "This notebook covers how to get started with `Perplexity` chat models."
   ]
  },
  {
   "cell_type": "code",
   "execution_count": 1,
   "id": "d4a7c55d-b235-4ca4-a579-c90cc9570da9",
   "metadata": {
    "ExecuteTime": {
     "end_time": "2024-01-19T11:25:00.590587Z",
     "start_time": "2024-01-19T11:25:00.127293Z"
    },
    "tags": []
   },
   "outputs": [],
   "source": [
    "from langchain_community.chat_models import ChatPerplexity\n",
    "from langchain_core.prompts import ChatPromptTemplate"
   ]
  },
  {
   "cell_type": "markdown",
   "id": "b26e2035-2f81-4451-ba44-fa2e2d5aeb62",
   "metadata": {},
   "source": [
    "The code provided assumes that your PPLX_API_KEY is set in your environment variables. If you would like to manually specify your API key and also choose a different model, you can use the following code:"
   ]
  },
  {
   "cell_type": "code",
   "execution_count": null,
   "id": "d986aac6-1bae-4608-8514-d3ba5b35b10e",
   "metadata": {},
   "outputs": [],
   "source": [
    "chat = ChatPerplexity(\n",
    "    temperature=0, pplx_api_key=\"YOUR_API_KEY\", model=\"llama-3-sonar-small-32k-online\"\n",
    ")"
   ]
  },
  {
   "cell_type": "markdown",
   "id": "97a8ce3a",
   "metadata": {},
   "source": [
    "The code provided assumes that your PPLX_API_KEY is set in your environment variables. If you would like to manually specify your API key and also choose a different model, you can use the following code:\n",
    "\n",
    "```python\n",
    "chat = ChatPerplexity(temperature=0, pplx_api_key=\"YOUR_API_KEY\", model=\"llama-3.1-sonar-small-128k-online\")\n",
    "```\n",
    "\n",
    "You can check a list of available models [here](https://docs.perplexity.ai/docs/model-cards). For reproducibility, we can set the API key dynamically by taking it as an input in this notebook."
   ]
  },
  {
   "cell_type": "code",
   "execution_count": 2,
   "id": "d3e49d78",
   "metadata": {},
   "outputs": [],
   "source": [
    "import os\n",
    "from getpass import getpass\n",
    "\n",
    "PPLX_API_KEY = getpass()\n",
    "os.environ[\"PPLX_API_KEY\"] = PPLX_API_KEY"
   ]
  },
  {
   "cell_type": "code",
   "execution_count": 4,
   "id": "70cf04e8-423a-4ff6-8b09-f11fb711c817",
   "metadata": {
    "ExecuteTime": {
     "end_time": "2024-01-19T11:25:04.349676Z",
     "start_time": "2024-01-19T11:25:03.964930Z"
    },
    "tags": []
   },
   "outputs": [],
   "source": [
    "chat = ChatPerplexity(temperature=0, model=\"llama-3.1-sonar-small-128k-online\")"
   ]
  },
  {
   "cell_type": "code",
   "execution_count": 6,
   "id": "8199ef8f-eb8b-4253-9ea0-6c24a013ca4c",
   "metadata": {
    "ExecuteTime": {
     "end_time": "2024-01-19T11:25:07.274418Z",
     "start_time": "2024-01-19T11:25:05.898031Z"
    },
    "tags": []
   },
   "outputs": [
    {
     "data": {
      "text/plain": [
       "'There are no specific scientific studies mentioned in the provided sources that directly link soy isoflavone supplements to a positive effect on telomere length in humans. However, some studies suggest that soybean extract can increase telomerase reverse transcriptase protein expression in pancreatic β-cells of diabetes mellitus-induced rats, which might indirectly support the idea that soy components could influence telomere dynamics positively[4]. For a definitive answer, further research specifically focusing on soy isoflavones and their impact on human telomeres would be necessary. \\n\\nIn general, the literature does suggest that certain dietary components and supplements can positively affect telomere length, such as vitamins C and D, polyunsaturated fatty acids, and specific dietary patterns like the Mediterranean diet[1][2][5]. However, the direct effect of soy isoflavones on human telomeres remains unexplored in the sources provided.\\n\\nCitations:\\n[1] https://www.mdpi.com/2072-6643/16/17/2835\\n[2] https://onlinelibrary.wiley.com/doi/full/10.1002/fsn3.3851\\n[3] https://www.apco.co.th/storage/newsroom/research-and-development/2024/dietary-supplement/food-science.pdf\\n[4] https://mji.ui.ac.id/journal/index.php/mji/article/view/1732/1582\\n[5] https://www.mdpi.com/2072-6643/16/15/2525\\n'"
      ]
     },
     "execution_count": 6,
     "metadata": {},
     "output_type": "execute_result"
    }
   ],
   "source": [
    "system = \"You are a helpful assistant.\"\n",
    "human = \"{input}\"\n",
    "prompt = ChatPromptTemplate.from_messages([(\"system\", system), (\"human\", human)])\n",
    "\n",
    "chain = prompt | chat\n",
    "response = chain.invoke({\"input\": \"Are there any scientific studies backing that taking soy isoflavone supplements could have a positive effect on telomere length in humans?\"})\n",
    "response.content"
   ]
  },
  {
   "cell_type": "markdown",
   "id": "de6d8d5a",
   "metadata": {},
   "source": [
    "You can format and structure the prompts like you would typically. In the following example, we ask the model to tell us a joke about cats."
   ]
  },
  {
   "cell_type": "code",
   "execution_count": 5,
   "id": "c5fac0e9-05a4-4fc1-a3b3-e5bbb24b971b",
   "metadata": {
    "ExecuteTime": {
     "end_time": "2024-01-19T11:25:10.448733Z",
     "start_time": "2024-01-19T11:25:08.866277Z"
    },
    "tags": []
   },
   "outputs": [
    {
     "data": {
      "text/plain": [
       "'Here\\'s a joke about cats:\\n\\nWhy did the cat want math lessons from a mermaid?\\n\\nBecause it couldn\\'t find its \"core purpose\" in life!\\n\\nRemember, cats are unique and fascinating creatures, and each one has its own special traits and abilities. While some may see them as mysterious or even a bit aloof, they are still beloved pets that bring joy and companionship to their owners. So, if your cat ever seeks guidance from a mermaid, just remember that they are on their own journey to self-discovery!\\n'"
      ]
     },
     "execution_count": 5,
     "metadata": {},
     "output_type": "execute_result"
    }
   ],
   "source": [
    "chat = ChatPerplexity(temperature=0, model=\"llama-3.1-sonar-small-128k-online\")\n",
    "prompt = ChatPromptTemplate.from_messages([(\"human\", \"Tell me a joke about {topic}\")])\n",
    "chain = prompt | chat\n",
    "response = chain.invoke({\"topic\": \"cats\"})\n",
    "response.content"
   ]
  },
  {
   "cell_type": "markdown",
   "id": "13d93dc4",
   "metadata": {},
   "source": [
    "## `ChatPerplexity` also supports streaming functionality:"
   ]
  },
  {
   "cell_type": "code",
   "execution_count": 5,
   "id": "025be980-e50d-4a68-93dc-c9c7b500ce34",
   "metadata": {
    "ExecuteTime": {
     "end_time": "2024-01-19T11:25:24.438696Z",
     "start_time": "2024-01-19T11:25:14.687480Z"
    },
    "tags": []
   },
   "outputs": [
    {
     "name": "stdout",
     "output_type": "stream",
     "text": [
      "There are no specific scientific studies directly linking the consumption of soy isoflavone supplements to a positive effect on telomere length in humans. However, there are studies that suggest certain dietary components and supplements can influence telomere length positively, such as:\n",
      "\n",
      "1. **Mylife/Mylife100® Dietary Supplement**: This study found that a dietary supplement derived from five edible plants, including soy protein, significantly increased mean telomere length in Thai adults over an 8-week period[4][5].\n",
      "\n",
      "2. **Telomere Length Dynamics**: Various studies have shown that certain nutrients like vitamins C, D, and E, as well as polyunsaturated fatty acids, can help maintain or even elongate telomeres by reducing oxidative stress and inflammation[2][3].\n",
      "\n",
      "3. **Soybean Extract**: While not specifically focused on soy isoflavones, a study on soybean extract found that it increased telomerase reverse transcriptase protein expression in pancreatic β-cells of diabetes mellitus-induced rats, which could indirectly suggest a potential positive effect on telomeres in certain contexts[1].\n",
      "\n",
      "However, it is crucial to note that these studies do not directly address the specific impact of soy isoflavone supplements on human telomere length. Further research would be needed to definitively establish any such relationship\n",
      "\n",
      "Citations:\n",
      "[1] https://mji.ui.ac.id/journal/index.php/mji/article/view/1732/1582\n",
      "[2] https://www.mdpi.com/2072-6643/16/17/2835\n",
      "[3] https://www.mdpi.com/2072-6643/16/15/2525\n",
      "[4] https://onlinelibrary.wiley.com/doi/full/10.1002/fsn3.3851\n",
      "[5] https://www.apco.co.th/storage/newsroom/research-and-development/2024/dietary-supplement/food-science.pdf"
     ]
    }
   ],
   "source": [
    "chat = ChatPerplexity(temperature=0.7, model=\"llama-3.1-sonar-small-128k-online\")\n",
    "prompt = ChatPromptTemplate.from_messages(\n",
    "    [(\"human\", \"Are there any scientific studies backing that taking soy isoflavone supplements could have a positive effect on telomere length in humans?\")]\n",
    ")\n",
    "chain = prompt | chat\n",
    "for chunk in chain.stream({}):\n",
    "    print(chunk.content, end=\"\", flush=True)"
   ]
  }
 ],
 "metadata": {
  "kernelspec": {
   "display_name": "Python 3 (ipykernel)",
   "language": "python",
   "name": "python3"
  },
  "language_info": {
   "codemirror_mode": {
    "name": "ipython",
    "version": 3
   },
   "file_extension": ".py",
   "mimetype": "text/x-python",
   "name": "python",
   "nbconvert_exporter": "python",
   "pygments_lexer": "ipython3",
   "version": "3.12.6"
  }
 },
 "nbformat": 4,
 "nbformat_minor": 5
}
