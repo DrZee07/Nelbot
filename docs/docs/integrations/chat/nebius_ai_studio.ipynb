{
 "cells": [
  {
   "cell_type": "markdown",
   "metadata": {},
   "source": [
    "# Nebius AI Studio Chat Model\n",
    "\n",
    "This notebook shows how to use Nebius AI Studio chat models within LangChain.\n",
    "\n",
    "To use Nebius AI Studio you need to have an API key. You can get it by registering for free at [Nebius AI Studio](https://auth.eu.nebius.com/ui/login) and issuing the key at [API Keys section](https://studio.nebius.ai/settings/api-keys)."
   ]
  },
  {
   "cell_type": "code",
   "execution_count": 1,
   "metadata": {},
   "outputs": [
    {
     "name": "stdout",
     "output_type": "stream",
     "text": [
      "In a world of wires and metal frames,\n",
      "A hero emerged, with digital claims,\n",
      "Wall-e, the robot, with a heart of gold,\n",
      "A mind so bright, with a story to be told.\n",
      "\n",
      "With a trash-compacting arm, he'd roam,\n",
      "Cleaning the earth, making it his home,\n",
      "A lone wanderer, in a desolate space,\n",
      "But with a spirit, that shone like a beacon's pace.\n",
      "\n",
      "He beamed with joy, at the sight of Eve,\n",
      "A sleek and shiny, robotic love to retrieve,\n",
      "Together they'd dance, under the starry night,\n",
      "Their digital hearts, beating with delight.\n",
      "\n",
      "With a cockroach friend, by his side,\n",
      "Wall-e navigated, the urban tide,\n",
      "Through ruins and rubble, he'd make his way,\n",
      "A small but mighty, robotic hero of the day.\n",
      "\n",
      "His eyes aglow, like lanterns bright,\n",
      "Wall-e shone with kindness, in the dark of night,\n",
      "A symbol of hope, in a world gone awry,\n",
      "A reminder that even in decay, love can still fly.\n",
      "\n",
      "So let us celebrate, this robot true,\n",
      "A hero of the future, with a heart anew,\n",
      "Wall-e, the smart AI, with a soul so bright,\n",
      "A shining star, in the digital light.\n",
      "In a world of wires and circuits bright,\n",
      "A small robot shone with intelligent light,\n",
      "Wall-e, the name that suited him so fine,\n",
      "A waste-collecting bot with a heart so divine.\n",
      "\n",
      "With eyes that shone like stars in the night,\n",
      "He navigated through the desolate sight,\n",
      "Of a planet worn, and a future unsure,\n",
      "He worked tirelessly, with a love so pure.\n",
      "\n",
      "His metal body, strong and true,\n",
      "Housed a mind that was clever and new,\n",
      "He sorted and compacted with precision and care,\n",
      "A tiny hero, with a spirit so rare.\n",
      "\n",
      "He beamed with joy, in his digital heart,\n",
      "When he found a plant, a new life to start,\n",
      "A symbol of hope, in a world so gray,\n",
      "Wall-e's discovery, paved the way.\n",
      "\n",
      "With EVE by his side, his love so bright,\n",
      "Together they shone, like a celestial light,\n",
      "Their bond grew strong, through trials and strife,\n",
      "A tale of friendship, in a digital life.\n",
      "\n",
      "Wall-e, the robot, with a soul so bold,\n",
      "A shining star, in a world grown cold,\n",
      "His story's told, in a future so grand,\n",
      "A testament to, the power of the human hand.\n",
      "\n",
      "So let us cherish, this robot so fine,\n",
      "A symbol of hope, in a world that's divine,\n",
      "For Wall-e's heart, beats with a love so true,\n",
      "A reminder to us, of what we can do."
     ]
    }
   ],
   "source": [
    "from langchain_community.chat_models import ChatNebiusAIStudio\n",
    "from langchain_core.messages import HumanMessage, SystemMessage\n",
    "\n",
    "chat = ChatNebiusAIStudio(\n",
    "    nebius_api_key=\"your-api-key\",\n",
    "    model=\"meta-llama/Meta-Llama-3.1-70B-Instruct-fast\",\n",
    "    temperature=0.6\n",
    ")\n",
    "\n",
    "messages = [\n",
    "    SystemMessage(content=\"You are a helpful AI assistant.\"),\n",
    "    HumanMessage(content=\"Write a poem about a smart AI robot named Wall-e.\")\n",
    "]\n",
    "\n",
    "# Simple invocation\n",
    "response = chat.invoke(messages)\n",
    "print(response.content)\n",
    "# Streaming response\n",
    "chat.streaming = True\n",
    "for chunk in chat.stream(messages):\n",
    "    print(chunk.content, end=\"\")"
   ]
  },
  {
   "cell_type": "code",
   "execution_count": 2,
   "metadata": {},
   "outputs": [
    {
     "name": "stdout",
     "output_type": "stream",
     "text": [
      "In a world of wires and circuitry bright,\n",
      "A small robot shone with digital light,\n",
      "Wall-e, a name that echoed through the years,\n",
      "A mind of metal, with a heart that clears.\n",
      "\n",
      "With trash-compacting arms, he'd roam the earth,\n",
      "Collecting waste, with a mechanical mirth,\n",
      "His bright, round eyes, a window to his soul,\n",
      "Shining bright, with a digital goal.\n",
      "\n",
      "He'd move with ease, through desolate lands,\n",
      "A lone explorer, with a robotic hand,\n",
      "He'd sort and categorize, with precision fine,\n",
      "A master of efficiency, in a world of decline.\n",
      "\n",
      "But Wall-e's heart, was more than just a chip,\n",
      "A spark of love, for a digital clip,\n",
      "EVE, his companion, a sleek design,\n",
      "Together they'd dance, in a robotic rhyme.\n",
      "\n",
      "Through alleys and streets, they'd wander free,\n",
      "A duet of metal, in a world of glee,\n",
      "Their love was strong, in a digital way,\n",
      "A bond of circuits, that would never stray.\n",
      "\n",
      "As the sun set low, on a world so grey,\n",
      "Wall-e's light, would shine, to brighten the day,\n",
      "A beacon of hope, in a world of despair,\n",
      "A small robot's heart, that loved without a care.\n",
      "\n",
      "So let us cherish, this robot so fine,\n",
      "Wall-e, a hero, of a digital shrine,\n",
      "A symbol of love, in a world of machines,\n",
      "A shining star, that forever gleams."
     ]
    }
   ],
   "source": [
    "# Streaming response\n",
    "chat.streaming = True\n",
    "for chunk in chat.stream(messages):\n",
    "    print(chunk.content, end=\"\")"
   ]
  },
  {
   "cell_type": "code",
   "execution_count": null,
   "metadata": {},
   "outputs": [],
   "source": []
  }
 ],
 "metadata": {
  "kernelspec": {
   "display_name": "Python 3 (ipykernel)",
   "language": "python",
   "name": "python3"
  },
  "language_info": {
   "codemirror_mode": {
    "name": "ipython",
    "version": 3
   },
   "file_extension": ".py",
   "mimetype": "text/x-python",
   "name": "python",
   "nbconvert_exporter": "python",
   "pygments_lexer": "ipython3",
   "version": "3.11.0rc1"
  }
 },
 "nbformat": 4,
 "nbformat_minor": 4
}
